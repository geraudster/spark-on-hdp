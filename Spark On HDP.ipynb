{
 "cells": [
  {
   "cell_type": "markdown",
   "metadata": {},
   "source": [
    "![Spark](http://spark.apache.org/docs/latest/img/spark-logo-hd.png)\n",
    "\n",
    "<img src=\"http://hortonworks.com/wp-content/themes/hortonworks/images/svg/ui_logo.svg\" width=\"240\"/>\n",
    "\n",
    "## Utilisation de Spark sur le cluster\n",
    "\n",
    "Ce notebook est un exemple d'application d'une random forest sur le jeu de données nc13."
   ]
  },
  {
   "cell_type": "markdown",
   "metadata": {},
   "source": [
    "### Utilisation Jupyter"
   ]
  },
  {
   "cell_type": "code",
   "execution_count": null,
   "metadata": {
    "collapsed": false
   },
   "outputs": [],
   "source": [
    "1+2"
   ]
  },
  {
   "cell_type": "markdown",
   "metadata": {},
   "source": [
    "Ceci est de la doc"
   ]
  },
  {
   "cell_type": "markdown",
   "metadata": {},
   "source": [
    "### Configuration de Python"
   ]
  },
  {
   "cell_type": "code",
   "execution_count": null,
   "metadata": {
    "collapsed": true
   },
   "outputs": [],
   "source": [
    "# à utiliser pour stopper le contexte Spark\n",
    "sc.stop()"
   ]
  },
  {
   "cell_type": "markdown",
   "metadata": {},
   "source": [
    "Configuration du PYTHON_PATH :"
   ]
  },
  {
   "cell_type": "code",
   "execution_count": 1,
   "metadata": {
    "collapsed": false
   },
   "outputs": [],
   "source": [
    "import os\n",
    "import sys\n",
    "spark_home = os.environ.get('SPARK_HOME', None)\n",
    "sys.path.insert(0, spark_home + \"/python\")\n",
    "sys.path.insert(0, os.path.join(spark_home, 'python/lib/py4j-0.9-src.zip'))"
   ]
  },
  {
   "cell_type": "markdown",
   "metadata": {},
   "source": [
    "Configuration du client Spark, nous utilisons le mode yarn-client :\n",
    "![Cluster Overview](http://spark.apache.org/docs/latest/img/cluster-overview.png)"
   ]
  },
  {
   "cell_type": "code",
   "execution_count": 2,
   "metadata": {
    "collapsed": false
   },
   "outputs": [],
   "source": [
    "import os\n",
    "import pyspark\n",
    "\n",
    "conf = pyspark.SparkConf()\n",
    "conf.setMaster('yarn-client')\n",
    "\n",
    "sc = pyspark.SparkContext(conf=conf)"
   ]
  },
  {
   "cell_type": "code",
   "execution_count": null,
   "metadata": {
    "collapsed": false
   },
   "outputs": [],
   "source": [
    "sc.master"
   ]
  },
  {
   "cell_type": "markdown",
   "metadata": {},
   "source": [
    "### Spark sur YARN\n",
    "\n",
    "![HDP platform](HDP_architecture.png)"
   ]
  },
  {
   "cell_type": "markdown",
   "metadata": {},
   "source": [
    "### Chargement des données\n",
    "\n",
    "Les données ont été chargées sur HDFS dans le répertoire /user/geraud/shazam. Ici, nous allons utiliser les fichiers convertis au format Parquet (dans le répertoire /user/geraud/shazam/parquet)."
   ]
  },
  {
   "cell_type": "code",
   "execution_count": 4,
   "metadata": {
    "collapsed": true
   },
   "outputs": [],
   "source": [
    "from pyspark.sql import *\n",
    "from pyspark.sql.types import *\n",
    "import pyspark.sql.functions as F"
   ]
  },
  {
   "cell_type": "markdown",
   "metadata": {},
   "source": [
    "On initialise un SQLContext, qui va nous permettre de charger les données sous forme de Data.Frame.\n",
    "Un DataFrame est une représentation tabulaire des données (à la Excel): https://spark.apache.org/docs/1.6.2/sql-programming-guide.html"
   ]
  },
  {
   "cell_type": "code",
   "execution_count": 5,
   "metadata": {
    "collapsed": false
   },
   "outputs": [],
   "source": [
    "sqlContext = SQLContext(sc)"
   ]
  },
  {
   "cell_type": "code",
   "execution_count": 6,
   "metadata": {
    "collapsed": false
   },
   "outputs": [
    {
     "name": "stdout",
     "output_type": "stream",
     "text": [
      "+-------+--------------+-------------+---------------+-------------+-------------+--------------+-------------+-------------+--------------+---------------+---------------+-------------+--------------+-------+--------+\n",
      "|idSound|       bands_1|      bands_2|        bands_3|      bands_4|      bands_5|       bands_6|      bands_7|      bands_8|       bands_9|       bands_10|       bands_11|     bands_12|      bands_13|mfccSeq|   class|\n",
      "+-------+--------------+-------------+---------------+-------------+-------------+--------------+-------------+-------------+--------------+---------------+---------------+-------------+--------------+-------+--------+\n",
      "|    274|-901.902099609| 163.83505249| -11.8038024902|19.7777748108|19.9015960693|-4.03476715088|18.4968910217|12.1045322418|-1.85980224609|-0.522010803223|  1.58743667603|2.35488128662|-9.13202285767|      1|dog_bark|\n",
      "|    274|-884.952514648|154.302032471| -24.4797782898|35.2823219299|8.37690734863|-21.6676330566|14.3066902161| 2.4754486084| 3.89032363892|  3.24601745605| -6.73013877869| 16.709104538| 10.1444091797|      2|dog_bark|\n",
      "|    274|-910.679870605|147.575836182| -7.37031555176|36.3427009583|7.01029968262|  -13.25365448|25.5862045288|13.9219684601| 9.14876174927|0.0632247924805| -11.6082515717|12.2986602783| 2.22973632812|      3|dog_bark|\n",
      "|    274|-930.696655273|140.576019287| -2.04270935059|32.2099189758|7.10624694824|-20.3824462891|10.2228736877|5.86395263672| 6.06309127808|  8.64373207092|-0.539455413818|10.9407272339| 2.05480957031|      4|dog_bark|\n",
      "|    274|-932.699462891|135.094207764|0.0494689941406|42.1913490295|7.70018005371|-21.2775039673|12.9482460022|6.37610626221| 12.1410255432|  13.1902179718| -8.49781608582|5.87728118896| 11.7842025757|      5|dog_bark|\n",
      "+-------+--------------+-------------+---------------+-------------+-------------+--------------+-------------+-------------+--------------+---------------+---------------+-------------+--------------+-------+--------+\n",
      "only showing top 5 rows\n",
      "\n"
     ]
    }
   ],
   "source": [
    "mfcc = sqlContext.read.parquet('/user/geraud/shazam/parquet/nc13-train.parquet')\n",
    "mfcc.show(5)"
   ]
  },
  {
   "cell_type": "code",
   "execution_count": 7,
   "metadata": {
    "collapsed": false,
    "scrolled": true
   },
   "outputs": [
    {
     "data": {
      "text/html": [
       "<div style=\"max-height:1000px;max-width:1500px;overflow:auto;\">\n",
       "<table border=\"1\" class=\"dataframe\">\n",
       "  <thead>\n",
       "    <tr style=\"text-align: right;\">\n",
       "      <th></th>\n",
       "      <th>summary</th>\n",
       "      <th>idSound</th>\n",
       "      <th>bands_1</th>\n",
       "      <th>bands_2</th>\n",
       "      <th>bands_3</th>\n",
       "      <th>bands_4</th>\n",
       "      <th>bands_5</th>\n",
       "      <th>bands_6</th>\n",
       "      <th>bands_7</th>\n",
       "      <th>bands_8</th>\n",
       "      <th>bands_9</th>\n",
       "      <th>bands_10</th>\n",
       "      <th>bands_11</th>\n",
       "      <th>bands_12</th>\n",
       "      <th>bands_13</th>\n",
       "      <th>mfccSeq</th>\n",
       "    </tr>\n",
       "  </thead>\n",
       "  <tbody>\n",
       "    <tr>\n",
       "      <th>0</th>\n",
       "      <td>  count</td>\n",
       "      <td>            3388063</td>\n",
       "      <td>            3388063</td>\n",
       "      <td>           3388063</td>\n",
       "      <td>            3388063</td>\n",
       "      <td>          3388063</td>\n",
       "      <td>            3388063</td>\n",
       "      <td>           3388063</td>\n",
       "      <td>            3388063</td>\n",
       "      <td>            3388063</td>\n",
       "      <td>             3388063</td>\n",
       "      <td>            3388063</td>\n",
       "      <td>             3388063</td>\n",
       "      <td>             3388063</td>\n",
       "      <td>             3388063</td>\n",
       "      <td>           3388063</td>\n",
       "    </tr>\n",
       "    <tr>\n",
       "      <th>1</th>\n",
       "      <td>   mean</td>\n",
       "      <td>   625.994764855317</td>\n",
       "      <td> -797.7422305973884</td>\n",
       "      <td> 130.5292495000719</td>\n",
       "      <td> -8.684178805994717</td>\n",
       "      <td> 9.93409146380984</td>\n",
       "      <td> -2.213174698431618</td>\n",
       "      <td>  2.79919745596125</td>\n",
       "      <td> 0.2200321438486301</td>\n",
       "      <td> 1.4286656845608057</td>\n",
       "      <td> -0.5015752394078973</td>\n",
       "      <td> 0.7480491144689811</td>\n",
       "      <td> -0.9110609097398981</td>\n",
       "      <td> 0.25667787701983746</td>\n",
       "      <td> -0.5979051189166785</td>\n",
       "      <td> 4830.286625130642</td>\n",
       "    </tr>\n",
       "    <tr>\n",
       "      <th>2</th>\n",
       "      <td> stddev</td>\n",
       "      <td> 378.89575690717896</td>\n",
       "      <td>   133.466217254147</td>\n",
       "      <td> 53.08886778297777</td>\n",
       "      <td>  40.18542865854186</td>\n",
       "      <td> 26.5668552706278</td>\n",
       "      <td>  20.88320375826346</td>\n",
       "      <td> 18.63478751721859</td>\n",
       "      <td> 16.730487031561562</td>\n",
       "      <td>   14.2524646400452</td>\n",
       "      <td>  13.331844923590173</td>\n",
       "      <td> 12.479857078817725</td>\n",
       "      <td>    11.4122629628578</td>\n",
       "      <td>   11.01843263226996</td>\n",
       "      <td>  10.718384230849887</td>\n",
       "      <td> 4959.522103508154</td>\n",
       "    </tr>\n",
       "    <tr>\n",
       "      <th>3</th>\n",
       "      <td>    min</td>\n",
       "      <td>                  1</td>\n",
       "      <td>     -1138.42004395</td>\n",
       "      <td>    -187.382949829</td>\n",
       "      <td>     -245.321746826</td>\n",
       "      <td>   -159.592193604</td>\n",
       "      <td>     -156.033447266</td>\n",
       "      <td>    -117.476898193</td>\n",
       "      <td>     -116.255081177</td>\n",
       "      <td>     -93.6179351807</td>\n",
       "      <td>      -94.7189712524</td>\n",
       "      <td>     -106.444740295</td>\n",
       "      <td>      -77.8643798828</td>\n",
       "      <td>      -86.0950698853</td>\n",
       "      <td>      -102.984832764</td>\n",
       "      <td>                 1</td>\n",
       "    </tr>\n",
       "    <tr>\n",
       "      <th>4</th>\n",
       "      <td>    max</td>\n",
       "      <td>               1301</td>\n",
       "      <td>     -303.506225586</td>\n",
       "      <td>     327.894744873</td>\n",
       "      <td>      159.329299927</td>\n",
       "      <td>    163.017944336</td>\n",
       "      <td>      125.203155518</td>\n",
       "      <td>     111.745773315</td>\n",
       "      <td>      102.688072205</td>\n",
       "      <td>      105.055770874</td>\n",
       "      <td>       91.7920837402</td>\n",
       "      <td>      91.9693603516</td>\n",
       "      <td>       91.0449066162</td>\n",
       "      <td>       91.9013214111</td>\n",
       "      <td>       86.9623718262</td>\n",
       "      <td>             26210</td>\n",
       "    </tr>\n",
       "  </tbody>\n",
       "</table>\n",
       "</div>"
      ],
      "text/plain": [
       "  summary             idSound             bands_1            bands_2  \\\n",
       "0   count             3388063             3388063            3388063   \n",
       "1    mean    625.994764855317  -797.7422305973884  130.5292495000719   \n",
       "2  stddev  378.89575690717896    133.466217254147  53.08886778297777   \n",
       "3     min                   1      -1138.42004395     -187.382949829   \n",
       "4     max                1301      -303.506225586      327.894744873   \n",
       "\n",
       "              bands_3           bands_4             bands_5  \\\n",
       "0             3388063           3388063             3388063   \n",
       "1  -8.684178805994717  9.93409146380984  -2.213174698431618   \n",
       "2   40.18542865854186  26.5668552706278   20.88320375826346   \n",
       "3      -245.321746826    -159.592193604      -156.033447266   \n",
       "4       159.329299927     163.017944336       125.203155518   \n",
       "\n",
       "             bands_6             bands_7             bands_8  \\\n",
       "0            3388063             3388063             3388063   \n",
       "1   2.79919745596125  0.2200321438486301  1.4286656845608057   \n",
       "2  18.63478751721859  16.730487031561562    14.2524646400452   \n",
       "3     -117.476898193      -116.255081177      -93.6179351807   \n",
       "4      111.745773315       102.688072205       105.055770874   \n",
       "\n",
       "               bands_9            bands_10             bands_11  \\\n",
       "0              3388063             3388063              3388063   \n",
       "1  -0.5015752394078973  0.7480491144689811  -0.9110609097398981   \n",
       "2   13.331844923590173  12.479857078817725     11.4122629628578   \n",
       "3       -94.7189712524      -106.444740295       -77.8643798828   \n",
       "4        91.7920837402       91.9693603516        91.0449066162   \n",
       "\n",
       "              bands_12             bands_13            mfccSeq  \n",
       "0              3388063              3388063            3388063  \n",
       "1  0.25667787701983746  -0.5979051189166785  4830.286625130642  \n",
       "2    11.01843263226996   10.718384230849887  4959.522103508154  \n",
       "3       -86.0950698853       -102.984832764                  1  \n",
       "4        91.9013214111        86.9623718262              26210  "
      ]
     },
     "execution_count": 7,
     "metadata": {},
     "output_type": "execute_result"
    }
   ],
   "source": [
    "mfcc.describe().toPandas()"
   ]
  },
  {
   "cell_type": "markdown",
   "metadata": {},
   "source": [
    "### Opérations sur des DataFrames"
   ]
  },
  {
   "cell_type": "code",
   "execution_count": 8,
   "metadata": {
    "collapsed": false
   },
   "outputs": [
    {
     "name": "stdout",
     "output_type": "stream",
     "text": [
      "+-------+--------------+--------+\n",
      "|idSound|       bands_1|   class|\n",
      "+-------+--------------+--------+\n",
      "|    274|-901.902099609|dog_bark|\n",
      "|    274|-884.952514648|dog_bark|\n",
      "|    274|-910.679870605|dog_bark|\n",
      "|    274|-930.696655273|dog_bark|\n",
      "|    274|-932.699462891|dog_bark|\n",
      "+-------+--------------+--------+\n",
      "only showing top 5 rows\n",
      "\n"
     ]
    }
   ],
   "source": [
    "mfcc.filter(mfcc['class'] == 'dog_bark').select('idSound', 'bands_1', 'class').show(5)"
   ]
  },
  {
   "cell_type": "code",
   "execution_count": 9,
   "metadata": {
    "collapsed": false
   },
   "outputs": [
    {
     "data": {
      "text/html": [
       "<div style=\"max-height:1000px;max-width:1500px;overflow:auto;\">\n",
       "<table border=\"1\" class=\"dataframe\">\n",
       "  <thead>\n",
       "    <tr style=\"text-align: right;\">\n",
       "      <th></th>\n",
       "      <th>idSound</th>\n",
       "      <th>avg(bands_1)</th>\n",
       "    </tr>\n",
       "  </thead>\n",
       "  <tbody>\n",
       "    <tr>\n",
       "      <th>0   </th>\n",
       "      <td> 1231</td>\n",
       "      <td> -681.757932</td>\n",
       "    </tr>\n",
       "    <tr>\n",
       "      <th>1   </th>\n",
       "      <td>  431</td>\n",
       "      <td> -746.012543</td>\n",
       "    </tr>\n",
       "    <tr>\n",
       "      <th>2   </th>\n",
       "      <td>  831</td>\n",
       "      <td> -815.922051</td>\n",
       "    </tr>\n",
       "    <tr>\n",
       "      <th>3   </th>\n",
       "      <td>  631</td>\n",
       "      <td> -790.621137</td>\n",
       "    </tr>\n",
       "    <tr>\n",
       "      <th>4   </th>\n",
       "      <td>   31</td>\n",
       "      <td> -765.044912</td>\n",
       "    </tr>\n",
       "    <tr>\n",
       "      <th>5   </th>\n",
       "      <td> 1232</td>\n",
       "      <td> -970.228533</td>\n",
       "    </tr>\n",
       "    <tr>\n",
       "      <th>6   </th>\n",
       "      <td>  632</td>\n",
       "      <td> -588.378465</td>\n",
       "    </tr>\n",
       "    <tr>\n",
       "      <th>7   </th>\n",
       "      <td>  232</td>\n",
       "      <td> -676.033586</td>\n",
       "    </tr>\n",
       "    <tr>\n",
       "      <th>8   </th>\n",
       "      <td>  832</td>\n",
       "      <td> -879.992056</td>\n",
       "    </tr>\n",
       "    <tr>\n",
       "      <th>9   </th>\n",
       "      <td> 1032</td>\n",
       "      <td> -742.044601</td>\n",
       "    </tr>\n",
       "    <tr>\n",
       "      <th>10  </th>\n",
       "      <td>  432</td>\n",
       "      <td> -864.148847</td>\n",
       "    </tr>\n",
       "    <tr>\n",
       "      <th>11  </th>\n",
       "      <td>   32</td>\n",
       "      <td> -808.189277</td>\n",
       "    </tr>\n",
       "    <tr>\n",
       "      <th>12  </th>\n",
       "      <td> 1233</td>\n",
       "      <td> -802.158430</td>\n",
       "    </tr>\n",
       "    <tr>\n",
       "      <th>13  </th>\n",
       "      <td>  433</td>\n",
       "      <td> -754.172310</td>\n",
       "    </tr>\n",
       "    <tr>\n",
       "      <th>14  </th>\n",
       "      <td>  833</td>\n",
       "      <td> -737.686454</td>\n",
       "    </tr>\n",
       "    <tr>\n",
       "      <th>15  </th>\n",
       "      <td>   33</td>\n",
       "      <td> -871.793078</td>\n",
       "    </tr>\n",
       "    <tr>\n",
       "      <th>16  </th>\n",
       "      <td>  233</td>\n",
       "      <td> -699.754163</td>\n",
       "    </tr>\n",
       "    <tr>\n",
       "      <th>17  </th>\n",
       "      <td>  633</td>\n",
       "      <td> -676.171924</td>\n",
       "    </tr>\n",
       "    <tr>\n",
       "      <th>18  </th>\n",
       "      <td> 1033</td>\n",
       "      <td> -627.710246</td>\n",
       "    </tr>\n",
       "    <tr>\n",
       "      <th>19  </th>\n",
       "      <td>  834</td>\n",
       "      <td> -926.027222</td>\n",
       "    </tr>\n",
       "    <tr>\n",
       "      <th>20  </th>\n",
       "      <td>  434</td>\n",
       "      <td> -764.014669</td>\n",
       "    </tr>\n",
       "    <tr>\n",
       "      <th>21  </th>\n",
       "      <td> 1034</td>\n",
       "      <td> -953.205567</td>\n",
       "    </tr>\n",
       "    <tr>\n",
       "      <th>22  </th>\n",
       "      <td> 1234</td>\n",
       "      <td> -726.827826</td>\n",
       "    </tr>\n",
       "    <tr>\n",
       "      <th>23  </th>\n",
       "      <td>   34</td>\n",
       "      <td> -639.713957</td>\n",
       "    </tr>\n",
       "    <tr>\n",
       "      <th>24  </th>\n",
       "      <td>  634</td>\n",
       "      <td> -980.676185</td>\n",
       "    </tr>\n",
       "    <tr>\n",
       "      <th>25  </th>\n",
       "      <td>  435</td>\n",
       "      <td> -895.216319</td>\n",
       "    </tr>\n",
       "    <tr>\n",
       "      <th>26  </th>\n",
       "      <td> 1235</td>\n",
       "      <td> -751.643259</td>\n",
       "    </tr>\n",
       "    <tr>\n",
       "      <th>27  </th>\n",
       "      <td>  635</td>\n",
       "      <td> -766.847164</td>\n",
       "    </tr>\n",
       "    <tr>\n",
       "      <th>28  </th>\n",
       "      <td>   35</td>\n",
       "      <td>-1118.083708</td>\n",
       "    </tr>\n",
       "    <tr>\n",
       "      <th>29  </th>\n",
       "      <td>   36</td>\n",
       "      <td> -810.138473</td>\n",
       "    </tr>\n",
       "    <tr>\n",
       "      <th>...</th>\n",
       "      <td>...</td>\n",
       "      <td>...</td>\n",
       "    </tr>\n",
       "    <tr>\n",
       "      <th>1012</th>\n",
       "      <td>  824</td>\n",
       "      <td> -952.567503</td>\n",
       "    </tr>\n",
       "    <tr>\n",
       "      <th>1013</th>\n",
       "      <td> 1025</td>\n",
       "      <td> -987.771765</td>\n",
       "    </tr>\n",
       "    <tr>\n",
       "      <th>1014</th>\n",
       "      <td>  825</td>\n",
       "      <td> -965.888663</td>\n",
       "    </tr>\n",
       "    <tr>\n",
       "      <th>1015</th>\n",
       "      <td>  625</td>\n",
       "      <td> -792.088478</td>\n",
       "    </tr>\n",
       "    <tr>\n",
       "      <th>1016</th>\n",
       "      <td>  225</td>\n",
       "      <td> -688.781850</td>\n",
       "    </tr>\n",
       "    <tr>\n",
       "      <th>1017</th>\n",
       "      <td> 1225</td>\n",
       "      <td> -744.784308</td>\n",
       "    </tr>\n",
       "    <tr>\n",
       "      <th>1018</th>\n",
       "      <td>  626</td>\n",
       "      <td> -825.819926</td>\n",
       "    </tr>\n",
       "    <tr>\n",
       "      <th>1019</th>\n",
       "      <td>  226</td>\n",
       "      <td> -987.424560</td>\n",
       "    </tr>\n",
       "    <tr>\n",
       "      <th>1020</th>\n",
       "      <td>   26</td>\n",
       "      <td> -936.148867</td>\n",
       "    </tr>\n",
       "    <tr>\n",
       "      <th>1021</th>\n",
       "      <td> 1026</td>\n",
       "      <td> -713.859486</td>\n",
       "    </tr>\n",
       "    <tr>\n",
       "      <th>1022</th>\n",
       "      <td> 1226</td>\n",
       "      <td> -911.402524</td>\n",
       "    </tr>\n",
       "    <tr>\n",
       "      <th>1023</th>\n",
       "      <td> 1227</td>\n",
       "      <td> -850.810194</td>\n",
       "    </tr>\n",
       "    <tr>\n",
       "      <th>1024</th>\n",
       "      <td> 1027</td>\n",
       "      <td> -743.344613</td>\n",
       "    </tr>\n",
       "    <tr>\n",
       "      <th>1025</th>\n",
       "      <td>  227</td>\n",
       "      <td> -753.776613</td>\n",
       "    </tr>\n",
       "    <tr>\n",
       "      <th>1026</th>\n",
       "      <td>  427</td>\n",
       "      <td> -908.770923</td>\n",
       "    </tr>\n",
       "    <tr>\n",
       "      <th>1027</th>\n",
       "      <td>   27</td>\n",
       "      <td>-1045.344060</td>\n",
       "    </tr>\n",
       "    <tr>\n",
       "      <th>1028</th>\n",
       "      <td>  828</td>\n",
       "      <td> -811.487957</td>\n",
       "    </tr>\n",
       "    <tr>\n",
       "      <th>1029</th>\n",
       "      <td>  628</td>\n",
       "      <td> -922.200657</td>\n",
       "    </tr>\n",
       "    <tr>\n",
       "      <th>1030</th>\n",
       "      <td> 1028</td>\n",
       "      <td> -735.519347</td>\n",
       "    </tr>\n",
       "    <tr>\n",
       "      <th>1031</th>\n",
       "      <td>  228</td>\n",
       "      <td> -811.289168</td>\n",
       "    </tr>\n",
       "    <tr>\n",
       "      <th>1032</th>\n",
       "      <td>  428</td>\n",
       "      <td> -955.006075</td>\n",
       "    </tr>\n",
       "    <tr>\n",
       "      <th>1033</th>\n",
       "      <td> 1229</td>\n",
       "      <td> -871.456548</td>\n",
       "    </tr>\n",
       "    <tr>\n",
       "      <th>1034</th>\n",
       "      <td>  229</td>\n",
       "      <td> -792.409703</td>\n",
       "    </tr>\n",
       "    <tr>\n",
       "      <th>1035</th>\n",
       "      <td> 1029</td>\n",
       "      <td> -870.813262</td>\n",
       "    </tr>\n",
       "    <tr>\n",
       "      <th>1036</th>\n",
       "      <td>  629</td>\n",
       "      <td> -857.101033</td>\n",
       "    </tr>\n",
       "    <tr>\n",
       "      <th>1037</th>\n",
       "      <td>   30</td>\n",
       "      <td> -816.017751</td>\n",
       "    </tr>\n",
       "    <tr>\n",
       "      <th>1038</th>\n",
       "      <td> 1230</td>\n",
       "      <td> -866.616242</td>\n",
       "    </tr>\n",
       "    <tr>\n",
       "      <th>1039</th>\n",
       "      <td>  630</td>\n",
       "      <td> -814.456538</td>\n",
       "    </tr>\n",
       "    <tr>\n",
       "      <th>1040</th>\n",
       "      <td>  830</td>\n",
       "      <td>-1117.187382</td>\n",
       "    </tr>\n",
       "    <tr>\n",
       "      <th>1041</th>\n",
       "      <td>  230</td>\n",
       "      <td> -564.477889</td>\n",
       "    </tr>\n",
       "  </tbody>\n",
       "</table>\n",
       "<p>1042 rows × 2 columns</p>\n",
       "</div>"
      ],
      "text/plain": [
       "      idSound  avg(bands_1)\n",
       "0        1231   -681.757932\n",
       "1         431   -746.012543\n",
       "2         831   -815.922051\n",
       "3         631   -790.621137\n",
       "4          31   -765.044912\n",
       "5        1232   -970.228533\n",
       "6         632   -588.378465\n",
       "7         232   -676.033586\n",
       "8         832   -879.992056\n",
       "9        1032   -742.044601\n",
       "10        432   -864.148847\n",
       "11         32   -808.189277\n",
       "12       1233   -802.158430\n",
       "13        433   -754.172310\n",
       "14        833   -737.686454\n",
       "15         33   -871.793078\n",
       "16        233   -699.754163\n",
       "17        633   -676.171924\n",
       "18       1033   -627.710246\n",
       "19        834   -926.027222\n",
       "20        434   -764.014669\n",
       "21       1034   -953.205567\n",
       "22       1234   -726.827826\n",
       "23         34   -639.713957\n",
       "24        634   -980.676185\n",
       "25        435   -895.216319\n",
       "26       1235   -751.643259\n",
       "27        635   -766.847164\n",
       "28         35  -1118.083708\n",
       "29         36   -810.138473\n",
       "...       ...           ...\n",
       "1012      824   -952.567503\n",
       "1013     1025   -987.771765\n",
       "1014      825   -965.888663\n",
       "1015      625   -792.088478\n",
       "1016      225   -688.781850\n",
       "1017     1225   -744.784308\n",
       "1018      626   -825.819926\n",
       "1019      226   -987.424560\n",
       "1020       26   -936.148867\n",
       "1021     1026   -713.859486\n",
       "1022     1226   -911.402524\n",
       "1023     1227   -850.810194\n",
       "1024     1027   -743.344613\n",
       "1025      227   -753.776613\n",
       "1026      427   -908.770923\n",
       "1027       27  -1045.344060\n",
       "1028      828   -811.487957\n",
       "1029      628   -922.200657\n",
       "1030     1028   -735.519347\n",
       "1031      228   -811.289168\n",
       "1032      428   -955.006075\n",
       "1033     1229   -871.456548\n",
       "1034      229   -792.409703\n",
       "1035     1029   -870.813262\n",
       "1036      629   -857.101033\n",
       "1037       30   -816.017751\n",
       "1038     1230   -866.616242\n",
       "1039      630   -814.456538\n",
       "1040      830  -1117.187382\n",
       "1041      230   -564.477889\n",
       "\n",
       "[1042 rows x 2 columns]"
      ]
     },
     "execution_count": 9,
     "metadata": {},
     "output_type": "execute_result"
    }
   ],
   "source": [
    "mfcc.groupBy('idSound').mean('bands_1').toPandas()"
   ]
  },
  {
   "cell_type": "markdown",
   "metadata": {},
   "source": [
    "En mode SQL:"
   ]
  },
  {
   "cell_type": "code",
   "execution_count": 10,
   "metadata": {
    "collapsed": false
   },
   "outputs": [
    {
     "data": {
      "text/plain": [
       "[u'mfcc']"
      ]
     },
     "execution_count": 10,
     "metadata": {},
     "output_type": "execute_result"
    }
   ],
   "source": [
    "sqlContext.registerDataFrameAsTable(mfcc, 'mfcc')\n",
    "sqlContext.tableNames()"
   ]
  },
  {
   "cell_type": "code",
   "execution_count": 11,
   "metadata": {
    "collapsed": false
   },
   "outputs": [
    {
     "data": {
      "text/html": [
       "<div style=\"max-height:1000px;max-width:1500px;overflow:auto;\">\n",
       "<table border=\"1\" class=\"dataframe\">\n",
       "  <thead>\n",
       "    <tr style=\"text-align: right;\">\n",
       "      <th></th>\n",
       "      <th>idSound</th>\n",
       "      <th>_c1</th>\n",
       "      <th>class</th>\n",
       "    </tr>\n",
       "  </thead>\n",
       "  <tbody>\n",
       "    <tr>\n",
       "      <th>0   </th>\n",
       "      <td>  147</td>\n",
       "      <td> -918.925428</td>\n",
       "      <td>         dog_bark</td>\n",
       "    </tr>\n",
       "    <tr>\n",
       "      <th>1   </th>\n",
       "      <td>  747</td>\n",
       "      <td> -852.186924</td>\n",
       "      <td>         dog_bark</td>\n",
       "    </tr>\n",
       "    <tr>\n",
       "      <th>2   </th>\n",
       "      <td>  520</td>\n",
       "      <td> -940.724946</td>\n",
       "      <td>         dog_bark</td>\n",
       "    </tr>\n",
       "    <tr>\n",
       "      <th>3   </th>\n",
       "      <td>  347</td>\n",
       "      <td> -785.126516</td>\n",
       "      <td>    engine_idling</td>\n",
       "    </tr>\n",
       "    <tr>\n",
       "      <th>4   </th>\n",
       "      <td> 1134</td>\n",
       "      <td> -760.566206</td>\n",
       "      <td> air_conditionner</td>\n",
       "    </tr>\n",
       "    <tr>\n",
       "      <th>5   </th>\n",
       "      <td>  796</td>\n",
       "      <td> -790.469515</td>\n",
       "      <td>         drilling</td>\n",
       "    </tr>\n",
       "    <tr>\n",
       "      <th>6   </th>\n",
       "      <td> 1293</td>\n",
       "      <td> -862.802072</td>\n",
       "      <td>         dog_bark</td>\n",
       "    </tr>\n",
       "    <tr>\n",
       "      <th>7   </th>\n",
       "      <td>  493</td>\n",
       "      <td> -704.569930</td>\n",
       "      <td>         dog_bark</td>\n",
       "    </tr>\n",
       "    <tr>\n",
       "      <th>8   </th>\n",
       "      <td>  135</td>\n",
       "      <td> -933.997742</td>\n",
       "      <td>         gun_shot</td>\n",
       "    </tr>\n",
       "    <tr>\n",
       "      <th>9   </th>\n",
       "      <td>  534</td>\n",
       "      <td> -670.566744</td>\n",
       "      <td>         car_horn</td>\n",
       "    </tr>\n",
       "    <tr>\n",
       "      <th>10  </th>\n",
       "      <td>    6</td>\n",
       "      <td> -799.223051</td>\n",
       "      <td> children_playing</td>\n",
       "    </tr>\n",
       "    <tr>\n",
       "      <th>11  </th>\n",
       "      <td>  907</td>\n",
       "      <td> -680.395645</td>\n",
       "      <td> air_conditionner</td>\n",
       "    </tr>\n",
       "    <tr>\n",
       "      <th>12  </th>\n",
       "      <td>  682</td>\n",
       "      <td> -770.397532</td>\n",
       "      <td>            siren</td>\n",
       "    </tr>\n",
       "    <tr>\n",
       "      <th>13  </th>\n",
       "      <td>  880</td>\n",
       "      <td> -931.738779</td>\n",
       "      <td> air_conditionner</td>\n",
       "    </tr>\n",
       "    <tr>\n",
       "      <th>14  </th>\n",
       "      <td>  142</td>\n",
       "      <td> -758.886133</td>\n",
       "      <td>         drilling</td>\n",
       "    </tr>\n",
       "    <tr>\n",
       "      <th>15  </th>\n",
       "      <td>  307</td>\n",
       "      <td> -678.413459</td>\n",
       "      <td>         car_horn</td>\n",
       "    </tr>\n",
       "    <tr>\n",
       "      <th>16  </th>\n",
       "      <td>  439</td>\n",
       "      <td>-1026.614930</td>\n",
       "      <td>         dog_bark</td>\n",
       "    </tr>\n",
       "    <tr>\n",
       "      <th>17  </th>\n",
       "      <td>  839</td>\n",
       "      <td> -877.006909</td>\n",
       "      <td>         dog_bark</td>\n",
       "    </tr>\n",
       "    <tr>\n",
       "      <th>18  </th>\n",
       "      <td>   39</td>\n",
       "      <td> -795.969069</td>\n",
       "      <td>         dog_bark</td>\n",
       "    </tr>\n",
       "    <tr>\n",
       "      <th>19  </th>\n",
       "      <td>  239</td>\n",
       "      <td> -988.541939</td>\n",
       "      <td>         dog_bark</td>\n",
       "    </tr>\n",
       "    <tr>\n",
       "      <th>20  </th>\n",
       "      <td>  352</td>\n",
       "      <td> -787.817357</td>\n",
       "      <td> children_playing</td>\n",
       "    </tr>\n",
       "    <tr>\n",
       "      <th>21  </th>\n",
       "      <td> 1066</td>\n",
       "      <td> -510.026534</td>\n",
       "      <td>    engine_idling</td>\n",
       "    </tr>\n",
       "    <tr>\n",
       "      <th>22  </th>\n",
       "      <td>  639</td>\n",
       "      <td> -789.335134</td>\n",
       "      <td>    engine_idling</td>\n",
       "    </tr>\n",
       "    <tr>\n",
       "      <th>23  </th>\n",
       "      <td> 1294</td>\n",
       "      <td> -678.951117</td>\n",
       "      <td>     street_music</td>\n",
       "    </tr>\n",
       "    <tr>\n",
       "      <th>24  </th>\n",
       "      <td>  294</td>\n",
       "      <td> -839.833982</td>\n",
       "      <td>     street_music</td>\n",
       "    </tr>\n",
       "    <tr>\n",
       "      <th>25  </th>\n",
       "      <td>  828</td>\n",
       "      <td> -811.487957</td>\n",
       "      <td>            siren</td>\n",
       "    </tr>\n",
       "    <tr>\n",
       "      <th>26  </th>\n",
       "      <td>  694</td>\n",
       "      <td> -827.119262</td>\n",
       "      <td>     street_music</td>\n",
       "    </tr>\n",
       "    <tr>\n",
       "      <th>27  </th>\n",
       "      <td>  453</td>\n",
       "      <td> -844.377702</td>\n",
       "      <td>         car_horn</td>\n",
       "    </tr>\n",
       "    <tr>\n",
       "      <th>28  </th>\n",
       "      <td>  585</td>\n",
       "      <td> -630.089450</td>\n",
       "      <td>         dog_bark</td>\n",
       "    </tr>\n",
       "    <tr>\n",
       "      <th>29  </th>\n",
       "      <td>  185</td>\n",
       "      <td> -830.411469</td>\n",
       "      <td>         dog_bark</td>\n",
       "    </tr>\n",
       "    <tr>\n",
       "      <th>...</th>\n",
       "      <td>...</td>\n",
       "      <td>...</td>\n",
       "      <td>...</td>\n",
       "    </tr>\n",
       "    <tr>\n",
       "      <th>1012</th>\n",
       "      <td>  758</td>\n",
       "      <td> -733.366492</td>\n",
       "      <td>         drilling</td>\n",
       "    </tr>\n",
       "    <tr>\n",
       "      <th>1013</th>\n",
       "      <td>  482</td>\n",
       "      <td> -664.702289</td>\n",
       "      <td>         dog_bark</td>\n",
       "    </tr>\n",
       "    <tr>\n",
       "      <th>1014</th>\n",
       "      <td>   82</td>\n",
       "      <td> -748.657058</td>\n",
       "      <td>         dog_bark</td>\n",
       "    </tr>\n",
       "    <tr>\n",
       "      <th>1015</th>\n",
       "      <td>  324</td>\n",
       "      <td> -876.813539</td>\n",
       "      <td>         gun_shot</td>\n",
       "    </tr>\n",
       "    <tr>\n",
       "      <th>1016</th>\n",
       "      <td>  824</td>\n",
       "      <td> -952.567503</td>\n",
       "      <td>       jackhammer</td>\n",
       "    </tr>\n",
       "    <tr>\n",
       "      <th>1017</th>\n",
       "      <td> 1055</td>\n",
       "      <td> -822.040169</td>\n",
       "      <td>         dog_bark</td>\n",
       "    </tr>\n",
       "    <tr>\n",
       "      <th>1018</th>\n",
       "      <td>  855</td>\n",
       "      <td> -980.435698</td>\n",
       "      <td>         dog_bark</td>\n",
       "    </tr>\n",
       "    <tr>\n",
       "      <th>1019</th>\n",
       "      <td> 1255</td>\n",
       "      <td> -912.236543</td>\n",
       "      <td>         dog_bark</td>\n",
       "    </tr>\n",
       "    <tr>\n",
       "      <th>1020</th>\n",
       "      <td>  496</td>\n",
       "      <td> -918.795144</td>\n",
       "      <td>         car_horn</td>\n",
       "    </tr>\n",
       "    <tr>\n",
       "      <th>1021</th>\n",
       "      <td> 1296</td>\n",
       "      <td>-1035.765179</td>\n",
       "      <td>         car_horn</td>\n",
       "    </tr>\n",
       "    <tr>\n",
       "      <th>1022</th>\n",
       "      <td>  168</td>\n",
       "      <td> -983.187094</td>\n",
       "      <td> children_playing</td>\n",
       "    </tr>\n",
       "    <tr>\n",
       "      <th>1023</th>\n",
       "      <td>  968</td>\n",
       "      <td> -888.514288</td>\n",
       "      <td> children_playing</td>\n",
       "    </tr>\n",
       "    <tr>\n",
       "      <th>1024</th>\n",
       "      <td>  110</td>\n",
       "      <td> -848.079322</td>\n",
       "      <td>     street_music</td>\n",
       "    </tr>\n",
       "    <tr>\n",
       "      <th>1025</th>\n",
       "      <td>  304</td>\n",
       "      <td> -503.923346</td>\n",
       "      <td>         drilling</td>\n",
       "    </tr>\n",
       "    <tr>\n",
       "      <th>1026</th>\n",
       "      <td>  269</td>\n",
       "      <td> -557.499788</td>\n",
       "      <td>         car_horn</td>\n",
       "    </tr>\n",
       "    <tr>\n",
       "      <th>1027</th>\n",
       "      <td>  541</td>\n",
       "      <td> -836.782289</td>\n",
       "      <td> children_playing</td>\n",
       "    </tr>\n",
       "    <tr>\n",
       "      <th>1028</th>\n",
       "      <td>  601</td>\n",
       "      <td> -932.683479</td>\n",
       "      <td>         dog_bark</td>\n",
       "    </tr>\n",
       "    <tr>\n",
       "      <th>1029</th>\n",
       "      <td> 1001</td>\n",
       "      <td> -798.929456</td>\n",
       "      <td>         dog_bark</td>\n",
       "    </tr>\n",
       "    <tr>\n",
       "      <th>1030</th>\n",
       "      <td> 1283</td>\n",
       "      <td>-1000.892647</td>\n",
       "      <td>     street_music</td>\n",
       "    </tr>\n",
       "    <tr>\n",
       "      <th>1031</th>\n",
       "      <td>  443</td>\n",
       "      <td> -951.141100</td>\n",
       "      <td>         gun_shot</td>\n",
       "    </tr>\n",
       "    <tr>\n",
       "      <th>1032</th>\n",
       "      <td> 1243</td>\n",
       "      <td> -803.883019</td>\n",
       "      <td>         gun_shot</td>\n",
       "    </tr>\n",
       "    <tr>\n",
       "      <th>1033</th>\n",
       "      <td>  543</td>\n",
       "      <td> -790.868229</td>\n",
       "      <td>       jackhammer</td>\n",
       "    </tr>\n",
       "    <tr>\n",
       "      <th>1034</th>\n",
       "      <td> 1028</td>\n",
       "      <td> -735.519347</td>\n",
       "      <td>    engine_idling</td>\n",
       "    </tr>\n",
       "    <tr>\n",
       "      <th>1035</th>\n",
       "      <td>  228</td>\n",
       "      <td> -811.289168</td>\n",
       "      <td>    engine_idling</td>\n",
       "    </tr>\n",
       "    <tr>\n",
       "      <th>1036</th>\n",
       "      <td>  215</td>\n",
       "      <td> -675.995304</td>\n",
       "      <td> air_conditionner</td>\n",
       "    </tr>\n",
       "    <tr>\n",
       "      <th>1037</th>\n",
       "      <td>  656</td>\n",
       "      <td> -590.104871</td>\n",
       "      <td>     street_music</td>\n",
       "    </tr>\n",
       "    <tr>\n",
       "      <th>1038</th>\n",
       "      <td>  790</td>\n",
       "      <td> -869.071505</td>\n",
       "      <td>            siren</td>\n",
       "    </tr>\n",
       "    <tr>\n",
       "      <th>1039</th>\n",
       "      <td> 1216</td>\n",
       "      <td>-1053.272275</td>\n",
       "      <td>         gun_shot</td>\n",
       "    </tr>\n",
       "    <tr>\n",
       "      <th>1040</th>\n",
       "      <td>  487</td>\n",
       "      <td> -740.315777</td>\n",
       "      <td> children_playing</td>\n",
       "    </tr>\n",
       "    <tr>\n",
       "      <th>1041</th>\n",
       "      <td>  287</td>\n",
       "      <td> -971.012257</td>\n",
       "      <td> children_playing</td>\n",
       "    </tr>\n",
       "  </tbody>\n",
       "</table>\n",
       "<p>1042 rows × 3 columns</p>\n",
       "</div>"
      ],
      "text/plain": [
       "      idSound          _c1             class\n",
       "0         147  -918.925428          dog_bark\n",
       "1         747  -852.186924          dog_bark\n",
       "2         520  -940.724946          dog_bark\n",
       "3         347  -785.126516     engine_idling\n",
       "4        1134  -760.566206  air_conditionner\n",
       "5         796  -790.469515          drilling\n",
       "6        1293  -862.802072          dog_bark\n",
       "7         493  -704.569930          dog_bark\n",
       "8         135  -933.997742          gun_shot\n",
       "9         534  -670.566744          car_horn\n",
       "10          6  -799.223051  children_playing\n",
       "11        907  -680.395645  air_conditionner\n",
       "12        682  -770.397532             siren\n",
       "13        880  -931.738779  air_conditionner\n",
       "14        142  -758.886133          drilling\n",
       "15        307  -678.413459          car_horn\n",
       "16        439 -1026.614930          dog_bark\n",
       "17        839  -877.006909          dog_bark\n",
       "18         39  -795.969069          dog_bark\n",
       "19        239  -988.541939          dog_bark\n",
       "20        352  -787.817357  children_playing\n",
       "21       1066  -510.026534     engine_idling\n",
       "22        639  -789.335134     engine_idling\n",
       "23       1294  -678.951117      street_music\n",
       "24        294  -839.833982      street_music\n",
       "25        828  -811.487957             siren\n",
       "26        694  -827.119262      street_music\n",
       "27        453  -844.377702          car_horn\n",
       "28        585  -630.089450          dog_bark\n",
       "29        185  -830.411469          dog_bark\n",
       "...       ...          ...               ...\n",
       "1012      758  -733.366492          drilling\n",
       "1013      482  -664.702289          dog_bark\n",
       "1014       82  -748.657058          dog_bark\n",
       "1015      324  -876.813539          gun_shot\n",
       "1016      824  -952.567503        jackhammer\n",
       "1017     1055  -822.040169          dog_bark\n",
       "1018      855  -980.435698          dog_bark\n",
       "1019     1255  -912.236543          dog_bark\n",
       "1020      496  -918.795144          car_horn\n",
       "1021     1296 -1035.765179          car_horn\n",
       "1022      168  -983.187094  children_playing\n",
       "1023      968  -888.514288  children_playing\n",
       "1024      110  -848.079322      street_music\n",
       "1025      304  -503.923346          drilling\n",
       "1026      269  -557.499788          car_horn\n",
       "1027      541  -836.782289  children_playing\n",
       "1028      601  -932.683479          dog_bark\n",
       "1029     1001  -798.929456          dog_bark\n",
       "1030     1283 -1000.892647      street_music\n",
       "1031      443  -951.141100          gun_shot\n",
       "1032     1243  -803.883019          gun_shot\n",
       "1033      543  -790.868229        jackhammer\n",
       "1034     1028  -735.519347     engine_idling\n",
       "1035      228  -811.289168     engine_idling\n",
       "1036      215  -675.995304  air_conditionner\n",
       "1037      656  -590.104871      street_music\n",
       "1038      790  -869.071505             siren\n",
       "1039     1216 -1053.272275          gun_shot\n",
       "1040      487  -740.315777  children_playing\n",
       "1041      287  -971.012257  children_playing\n",
       "\n",
       "[1042 rows x 3 columns]"
      ]
     },
     "execution_count": 11,
     "metadata": {},
     "output_type": "execute_result"
    }
   ],
   "source": [
    "sqlContext.sql(\"SELECT idSound, AVG(bands_1), class FROM mfcc GROUP BY idSound, class\").toPandas()"
   ]
  },
  {
   "cell_type": "markdown",
   "metadata": {},
   "source": [
    "#### Principes\n",
    "\n",
    "Spark permet d'effectuer 2 types d'opérations sur les DataFrames: les *transformations*  et les *actions*.\n",
    "\n",
    "* Exemples de transformations : map, flatMap, filter...\n",
    "* Exemples d'actions : collect, show...\n",
    "\n",
    "Les transformations ne sont exécutées qu'au moment de l'appel à une action.\n"
   ]
  },
  {
   "cell_type": "markdown",
   "metadata": {},
   "source": [
    "### Construction du pipeline de Machine Learning\n",
    "\n",
    "Nous allons mettre en oeuvre une succession de transformations au jeu de données:\n",
    "\n",
    "* indexation des labels (la mllib de Spark ne fonctionne que sur des nombres)\n",
    "* regroupement des features: les colones bands_* vont être regroupées dans une colone _features_\n",
    "* calcul du modèle\n",
    "\n",
    "La doc SparkML est là: https://spark.apache.org/docs/1.6.2/ml-guide.html"
   ]
  },
  {
   "cell_type": "code",
   "execution_count": null,
   "metadata": {
    "collapsed": true
   },
   "outputs": [],
   "source": [
    "from pyspark.ml.feature import VectorAssembler\n",
    "from pyspark.ml.feature import StringIndexer, IndexToString\n",
    "from pyspark.ml.classification import RandomForestClassifier\n",
    "from pyspark.ml import Pipeline"
   ]
  },
  {
   "cell_type": "code",
   "execution_count": null,
   "metadata": {
    "collapsed": false
   },
   "outputs": [],
   "source": [
    "# comme d'habitude, on met une partie des données de côté\n",
    "(trainingData, testData) = mfcc.randomSplit([0.7, 0.3])\n",
    "\n",
    "labelIndexer = StringIndexer(inputCol='class', outputCol='classIndex').fit(mfcc)\n",
    "\n",
    "assembler = VectorAssembler(\n",
    "    inputCols=['bands_1', 'bands_2', 'bands_3', 'bands_4', 'bands_5', 'bands_6',\n",
    "               'bands_7', 'bands_8', 'bands_9', 'bands_10', 'bands_11', 'bands_12', 'bands_13'],\n",
    "    outputCol='features')\n",
    "\n",
    "rf = RandomForestClassifier(labelCol=\"classIndex\", featuresCol=\"features\")\n",
    "\n",
    "pipeline = Pipeline(stages=[labelIndexer, assembler, rf])\n",
    "\n",
    "model = pipeline.fit(trainingData)"
   ]
  },
  {
   "cell_type": "code",
   "execution_count": null,
   "metadata": {
    "collapsed": false
   },
   "outputs": [],
   "source": [
    "model.stages"
   ]
  },
  {
   "cell_type": "markdown",
   "metadata": {},
   "source": [
    "Pendant que ça tourne, on peut vérifier l'avancement du job sur http://nn1.hdp3.bsa.broadsoftware.com:8088/cluster/apps"
   ]
  },
  {
   "cell_type": "markdown",
   "metadata": {},
   "source": [
    "### Faire des prédictions"
   ]
  },
  {
   "cell_type": "code",
   "execution_count": null,
   "metadata": {
    "collapsed": false
   },
   "outputs": [],
   "source": [
    "rawPredictions = model.transform(testData)\n",
    "rawPredictions.limit(5).toPandas()"
   ]
  },
  {
   "cell_type": "code",
   "execution_count": null,
   "metadata": {
    "collapsed": false
   },
   "outputs": [],
   "source": [
    "converter = IndexToString(inputCol=\"prediction\", outputCol=\"classPrediction\", labels = labelIndexer.labels)\n",
    "predictions = converter.transform(rawPredictions)\n",
    "predictions.select(\"idSound\", \"prediction\", \"classPrediction\", \"classIndex\", \"class\", \"features\").show(5)"
   ]
  },
  {
   "cell_type": "code",
   "execution_count": null,
   "metadata": {
    "collapsed": false
   },
   "outputs": [],
   "source": [
    "predictions.limit(1).toPandas()"
   ]
  },
  {
   "cell_type": "markdown",
   "metadata": {},
   "source": [
    "### Évaluation du modèle"
   ]
  },
  {
   "cell_type": "code",
   "execution_count": null,
   "metadata": {
    "collapsed": false
   },
   "outputs": [],
   "source": [
    "from pyspark.ml.evaluation import MulticlassClassificationEvaluator\n",
    "\n",
    "evaluator = MulticlassClassificationEvaluator(\n",
    "    labelCol=\"classIndex\", predictionCol=\"prediction\", metricName=\"precision\")\n",
    "\n",
    "accuracy = evaluator.evaluate(predictions)\n",
    "print(\"Test Error = %g\" % (1.0 - accuracy))"
   ]
  },
  {
   "cell_type": "markdown",
   "metadata": {},
   "source": [
    "## Soumettre pour le challenge"
   ]
  },
  {
   "cell_type": "code",
   "execution_count": null,
   "metadata": {
    "collapsed": false
   },
   "outputs": [],
   "source": [
    "def most_frequent(x, y):\n",
    "    if(y[1] > x[1]):\n",
    "        return y\n",
    "    else:\n",
    "        return x"
   ]
  },
  {
   "cell_type": "markdown",
   "metadata": {},
   "source": [
    "Il va falloir regrouper les MFCC par idSound, donc un peu de debug ci-dessous sur le jeu de test:"
   ]
  },
  {
   "cell_type": "code",
   "execution_count": null,
   "metadata": {
    "collapsed": false
   },
   "outputs": [],
   "source": [
    "predictions[predictions.idSound == 4].groupBy(['idSound', 'classPrediction']) \\\n",
    "           .count() \\\n",
    "           .collect()"
   ]
  },
  {
   "cell_type": "code",
   "execution_count": null,
   "metadata": {
    "collapsed": false
   },
   "outputs": [],
   "source": [
    "predictions[predictions.idSound == 4].groupBy(['idSound', 'classPrediction']) \\\n",
    "    .count() \\\n",
    "    .map(lambda row: (row[0], (row[1], row[2]))) \\\n",
    "    .reduceByKey(most_frequent) \\\n",
    "    .collect()\n",
    "\n",
    "    \n",
    "# .agg(lambda x:x.value_counts().index[0]) "
   ]
  },
  {
   "cell_type": "code",
   "execution_count": null,
   "metadata": {
    "collapsed": true
   },
   "outputs": [],
   "source": [
    "groupedByIdSoundPredictions = predictions.groupBy(['idSound', 'classPrediction']) \\\n",
    "    .count() \\\n",
    "    .map(lambda row: (row[0], (row[1], row[2]))) \\\n",
    "    .reduceByKey(most_frequent) \\\n",
    "    .collect()"
   ]
  },
  {
   "cell_type": "code",
   "execution_count": null,
   "metadata": {
    "collapsed": false
   },
   "outputs": [],
   "source": [
    "groupedByIdSoundPredictions[:10]"
   ]
  },
  {
   "cell_type": "markdown",
   "metadata": {},
   "source": [
    "On prédit maintenant sur le jeu de validation:"
   ]
  },
  {
   "cell_type": "code",
   "execution_count": null,
   "metadata": {
    "collapsed": true
   },
   "outputs": [],
   "source": [
    "validation = sqlContext.read.parquet('/user/geraud/shazam/parquet/nc13-validation.parquet')"
   ]
  },
  {
   "cell_type": "code",
   "execution_count": null,
   "metadata": {
    "collapsed": false
   },
   "outputs": [],
   "source": [
    "validation.select(validation.columns[:15]).limit(5).toPandas()"
   ]
  },
  {
   "cell_type": "code",
   "execution_count": null,
   "metadata": {
    "collapsed": false
   },
   "outputs": [],
   "source": [
    "rawPredictions = model.transform(validation.select(validation.columns[:15]))\n",
    "\n",
    "predictions = converter.transform(rawPredictions)\n",
    "predictions.select(\"idSound\", \"prediction\", \"classPrediction\", \"features\").show(5)"
   ]
  },
  {
   "cell_type": "code",
   "execution_count": null,
   "metadata": {
    "collapsed": false
   },
   "outputs": [],
   "source": [
    "groupedByIdSoundPredictions = predictions.groupBy(['idSound', 'classPrediction']) \\\n",
    "    .count() \\\n",
    "    .map(lambda row: (row[0], (row[1], row[2]))) \\\n",
    "    .reduceByKey(most_frequent) \\\n",
    "    .map(lambda row: (row[0], row[1][0])) \\\n",
    "    .collect()"
   ]
  },
  {
   "cell_type": "code",
   "execution_count": null,
   "metadata": {
    "collapsed": false
   },
   "outputs": [],
   "source": [
    "groupedByIdSoundPredictions[:10]"
   ]
  },
  {
   "cell_type": "code",
   "execution_count": null,
   "metadata": {
    "collapsed": false
   },
   "outputs": [],
   "source": [
    "import pandas as pd\n",
    "submissionDf = pd.DataFrame(groupedByIdSoundPredictions, columns = ['idSound', 'class'])\n",
    "    "
   ]
  },
  {
   "cell_type": "code",
   "execution_count": null,
   "metadata": {
    "collapsed": false
   },
   "outputs": [],
   "source": [
    "submissionDf[:10]"
   ]
  },
  {
   "cell_type": "code",
   "execution_count": null,
   "metadata": {
    "collapsed": true
   },
   "outputs": [],
   "source": [
    "submissionDf.to_csv('my-submission.csv', index = False)"
   ]
  }
 ],
 "metadata": {
  "kernelspec": {
   "display_name": "Python 2",
   "language": "python",
   "name": "python2"
  },
  "language_info": {
   "codemirror_mode": {
    "name": "ipython",
    "version": 2
   },
   "file_extension": ".py",
   "mimetype": "text/x-python",
   "name": "python",
   "nbconvert_exporter": "python",
   "pygments_lexer": "ipython2",
   "version": "2.7.9"
  },
  "widgets": {
   "state": {},
   "version": "1.1.2"
  }
 },
 "nbformat": 4,
 "nbformat_minor": 0
}
